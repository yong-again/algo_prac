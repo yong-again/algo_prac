{
 "cells": [
  {
   "cell_type": "markdown",
   "metadata": {},
   "source": [
    "### 검색 알고리즘"
   ]
  },
  {
   "cell_type": "markdown",
   "metadata": {},
   "source": [
    "#### 선형 검색 (Linear Search)"
   ]
  },
  {
   "cell_type": "code",
   "execution_count": 3,
   "metadata": {},
   "outputs": [
    {
     "name": "stdout",
     "output_type": "stream",
     "text": [
      "0\n",
      "4\n"
     ]
    }
   ],
   "source": [
    "# 성능: O(n)\n",
    "def findIndexLinear(array, cond):\n",
    "    for i in range(len(array)):\n",
    "        if(array[i] == cond):\n",
    "            return i\n",
    "\n",
    "\n",
    "\n",
    "print(findIndexLinear([2, 4, 5, 1, 6], 2))\n",
    "print(findIndexLinear([2, 4, 5, 1, 6], 6))"
   ]
  },
  {
   "cell_type": "markdown",
   "metadata": {},
   "source": [
    "#### 이진검색(Binary Search)\n",
    "\n",
    "+ 중간 위치 선택:(첫번째 인덱스 + 마지막 인덱스)/2\n",
    "+ 만약 짝수일 경우 소숫점 자리를 올릴것인지 내릴것인지 결정\n",
    "+ 중간 위치가 찾는 값인지 비교\n",
    "+ 아닐 경우 중간을 기준으로 왼쪽 또는 오른쪽을 다시 인덱스 정렬하여 비교해 나감."
   ]
  },
  {
   "cell_type": "code",
   "execution_count": 31,
   "metadata": {},
   "outputs": [
    {
     "name": "stdout",
     "output_type": "stream",
     "text": [
      "4\n",
      "None\n"
     ]
    }
   ],
   "source": [
    "import math\n",
    "\n",
    "# O(log n)\n",
    "def binary_search(array, con):\n",
    "        k = 0\n",
    "        ki = len(array) -1\n",
    "        \n",
    "        k_center = math.floor((k + ki) / 2)\n",
    "        #print(k_center)\n",
    "        \n",
    "#         while(array[k_center] != con):\n",
    "#             if(k > ki):\n",
    "#                 return \"결과를 찾을 수 없습니다.\"\n",
    "            \n",
    "#             if(array[k_center] < con):\n",
    "#                 k = k_center + 1\n",
    "#                 k_center = math.floor((k + ki) / 2)\n",
    "#             else:\n",
    "#                 ki = k_center - 1\n",
    "#                 k_center = math.floor((k + ki) / 2)\n",
    "        while(k <= ki):\n",
    "            k_center = math.floor((k + ki) / 2)\n",
    "            \n",
    "            if(array[k_center] == con):\n",
    "                return k_center\n",
    "            \n",
    "            elif (array[k_center] < con):\n",
    "                k = k_center + 1\n",
    "            else:\n",
    "                ki = k_center - 1\n",
    "            #return \"{}번째 요소가 일치합니다.\".format(k_center)\n",
    "\n",
    "print(binary_search([1, 2, 4, 5, 6, 7, 9, 28, 49, 70], 6))\n",
    "print(binary_search([1, 2, 4, 5, 6, 7, 9, 28, 49, 70], 50))"
   ]
  },
  {
   "cell_type": "markdown",
   "metadata": {},
   "source": [
    "#### 부팜찾기\n",
    "부품매장에서 손님이 원하는 부품을 검색하려고 한다."
   ]
  },
  {
   "cell_type": "code",
   "execution_count": 33,
   "metadata": {},
   "outputs": [
    {
     "name": "stdout",
     "output_type": "stream",
     "text": [
      "부품 갯수 : 10\n",
      "부품 번호 입력: 111 112 113 114 115 212 213 214 215\n",
      "필요한 부품 갯수 : 3\n",
      "필요한 부품 번호 입력: 113 115 120\n",
      "yes yes yes "
     ]
    }
   ],
   "source": [
    "# 매장에 들여올 부품의 갯수\n",
    "n = int(input(\"부품 갯수 : \"))\n",
    "\n",
    "# 부품번호 입력: 111 112 113 114 115 212 213 214 215\n",
    "shop = list(map(int, input(\"부품 번호 입력: \").split()))\n",
    "shop.sort()\n",
    "\n",
    "# 고객이 필요한 부품의 개수  : 3\n",
    "gn = int(input(\"필요한 부품 갯수 : \"))\n",
    "\n",
    "# 어떤 부품이 필요한지 공백을 기준으로 여러개 입력 받기: 113, 115, 120\n",
    "guest = list(map(int, input(\"필요한 부품 번호 입력: \").split()))\n",
    "\n",
    "# 필요한 부품 하나씩 확인\n",
    "for i in guest:\n",
    "    # 해당 부품이 존재하는지 확인\n",
    "    result = binary_search(shop, i)\n",
    "    \n",
    "    if result != -1:\n",
    "        print(\"yes\", end=\" \")\n",
    "    else:\n",
    "        print(\"no\", end=\" \")"
   ]
  },
  {
   "cell_type": "markdown",
   "metadata": {},
   "source": [
    "#### 떢볶이 떡 만들기\n",
    "\n",
    "오늘 동빈이는 여행 가신 부모님을 대신해서 떡집 일을 하기로 했다. 오늘은 떡볶이 떡을 만드는 날이다.\n",
    "동빈이네 떡볶이 떡은 재밌게도 떡볶이 떡의 길이가 일정하지 않다. \n",
    "대신에 한봉지 안에 들어가는 떡의 총 길이는 절단기로 잘라서 맞춰준다.\n",
    "절단기에 높이(H) 를 지정하면 줄지어진 떡을 한 번에 절단한다. 높이가 H보다 긴 떡은 H 위의 부분이\n",
    "잘릴 것이고, 낮은 떡은 잘리지 않는다.\n",
    "예를 들어 높이가 19, 14, 10, 17cm인 떡이 나란히 있고 절단기 높이를 15cm로 지정하면 자른 뒤 떡의 높이는 15, 14, 10, 15cm가 될 것이다. 잘린 떡의 길이는 차례대로 4, 0, 0, 2cm이다.\n",
    "손님은 6cm만큼의 길이를 가져간다.\n",
    "손님이 왔을 때 요청한 총 길이가 M일 때 적어도 M만큼의 떡을 얻기 위해 절단기에 설정할 수 있는 높이의\n",
    "최댓값을 구하는 프로그램을 작성하세요.\n"
   ]
  },
  {
   "cell_type": "code",
   "execution_count": 5,
   "metadata": {},
   "outputs": [
    {
     "name": "stdout",
     "output_type": "stream",
     "text": [
      "떡의 개수와 요청한 떡의 길이 입력: 4 6\n",
      "각 떡의 길이 입력 : 19 14 10 17\n",
      "15\n"
     ]
    }
   ],
   "source": [
    "import math\n",
    "# 떡의 개수와 요청한 떡의 길이를 입력\n",
    "n, m = map(int, input(\"떡의 개수와 요청한 떡의 길이 입력: \").split(\" \"))\n",
    "\n",
    "# 각 떡의 길이\n",
    "array = list(map(int, input(\"각 떡의 길이 입력 : \").split(' ')))\n",
    "#print(array)\n",
    "\n",
    "# 이진 탐색을 위한 시작점과 끝점 구하기\n",
    "start = 0\n",
    "end = max(array)\n",
    "\n",
    "# 이진 탐색 수행\n",
    "result = 0\n",
    "\n",
    "while(start <= end):\n",
    "    mid = math.floor((start + end)// 2)\n",
    "    total = 0\n",
    "    \n",
    "    for x in array:\n",
    "        if x > mid:\n",
    "            total += x - mid \n",
    "    \n",
    "    if total < m:\n",
    "        end = mid - 1\n",
    "        \n",
    "    else:\n",
    "        result = mid\n",
    "        start = mid + 1\n",
    "        \n",
    "print(result)"
   ]
  },
  {
   "cell_type": "markdown",
   "metadata": {},
   "source": [
    "### 해시 검색법\n",
    "\n",
    "+ 기존 검색법의 단점\n",
    "    - 기존 검색법은 추가, 삭제가 어렵다.\n",
    "    - 어떤 데이터가 어떤 요소에 저장되어 있는지 모른다.\n",
    "+ 용어 정리\n",
    "    - 해시(Hash) : 임의 값을 고정 길이로 변환하는 것\n",
    "    - 해쉬 테이블 : 키 값의 연산에 의해 직접 접근이 가능한 데이터 구조, key에 value를 저장하는 데이터 구조\n",
    "    - 해시 함수 : key에 대해 산술 연산을 이용해 데이터 위티를 찾을 수 있는 함수\n",
    "    - 해시 값 또는 해시 주소: key를 해시 함수로 연산해서, 해시 값을 알아내고,<br>\n",
    "      이를 기반으로 해시 테이블에서 해당 key에 대해 데이터 위치를 일관성 있게 찾을 수 있음\n",
    "    - 슬롯(버켓) : 한 개의 데이터를 저장할 수 있는 공간\n",
    "    \n",
    "+ 성능은 0(1)이지만 충돌이 발생할 경우 0(n)이 될 수 있다.\n",
    "+ 파이썬에서는 dict 타입을 사용하면 되기 때문에 Hash를 구현할 필요가 없다.\n",
    "+ 충돌 해결\n",
    "    - Chaining 기법\n",
    "        - 개방 해싱 중 하나 : 해시 테이블 외의 저장 공간을 활용하는 방법\n",
    "        - 충돌이 일어나면 링크드 리스트라는 자료 구조를 이용하는 방법\n",
    "    \n",
    "    - 오픈 주소법\n",
    "        - 닫힌 해싱 기법 중 하나\n",
    "        - 충돌이 일어나면 재 해시를 수행하여 빈 버킷을 찾는 방법\n",
    "        \n",
    "+ 장점\n",
    "    - 데이터의 저장 / 읽기 속도가 빠르다.(검색속도가 빠르다)\n",
    "    - 해시는 키에 대한 데이터 확인이 쉽다.(중복 확인이 용이)\n",
    "+ 단점\n",
    "    - 일반적으로 저장 공간이 좀더 많이 필요하다.\n",
    "    - 충돌발생\n",
    "\n",
    "+ 주요 용도\n",
    "    - 검색이 많이 필요한 경우\n",
    "    - 저장, 삭제, 읽기가 빈번한 경우"
   ]
  },
  {
   "cell_type": "code",
   "execution_count": 6,
   "metadata": {},
   "outputs": [
    {
     "data": {
      "text/plain": [
       "[0, 15, 23, 0, 11, 26, 0]"
      ]
     },
     "execution_count": 6,
     "metadata": {},
     "output_type": "execute_result"
    }
   ],
   "source": [
    "# 사용 예\n",
    "arr = [0 for i in range(7)]\n",
    "data = [11, 15, 23, 26]\n",
    "\n",
    "# 11 % 7 = 4\n",
    "# 15 % 7 = 1\n",
    "# 23 % 7 = 2\n",
    "# 26 % 7 = 5\n",
    "arr[4] = 11\n",
    "arr[1] = 15\n",
    "arr[2] = 23\n",
    "arr[5] = 26\n",
    "\n",
    "arr"
   ]
  },
  {
   "cell_type": "code",
   "execution_count": 13,
   "metadata": {},
   "outputs": [
    {
     "name": "stdout",
     "output_type": "stream",
     "text": [
      "65 68 84 65\n",
      "65 0\n"
     ]
    },
    {
     "data": {
      "text/plain": [
       "'01023233232'"
      ]
     },
     "execution_count": 13,
     "metadata": {},
     "output_type": "execute_result"
    }
   ],
   "source": [
    "# 사용예2\n",
    "\n",
    "# hash table 준비\n",
    "hash_table = [0 for i in range(10)]\n",
    "\n",
    "# hash function 준비\n",
    "def hash_func(key):\n",
    "    return key % 5\n",
    "\n",
    "data1 = \"Andy\"\n",
    "data2 = \"Dave\"\n",
    "data3 = \"Trumph\"\n",
    "data4 = \"Anthony\"\n",
    "\n",
    "print(ord(data1[0]), ord(data2[0]), ord(data3[0]), ord(data4[0]))\n",
    "print(ord(data1[0]), hash_func(ord(data1[0])))\n",
    "\n",
    "# hash tabel에 값 저장\n",
    "# data:value 와 같이 data와 value를 넣으면 해당 data에 대한 key를 찾아서\n",
    "# 해당 key에 대응하는 해시 주소에 value를 저장\n",
    "def data_save(data, value):\n",
    "    key = ord(data[0])\n",
    "    hash_address = hash_func(key)\n",
    "    hash_table[hash_address] = value\n",
    "    \n",
    "data_save(\"Andy\", \"01023233232\")\n",
    "data_save(\"Dave\", \"01045455454\")\n",
    "data_save(\"Trump\", \"01067677676\")\n",
    "\n",
    "# 데이터 읽어오기\n",
    "def data_read(data):\n",
    "    key = ord(data[0])\n",
    "    hash_address = hash_func(key)\n",
    "    \n",
    "    return hash_table[hash_address]\n",
    "\n",
    "data_read(\"Andy\") # 01023233232"
   ]
  },
  {
   "cell_type": "code",
   "execution_count": 17,
   "metadata": {},
   "outputs": [
    {
     "name": "stdout",
     "output_type": "stream",
     "text": [
      "[42, 12, 0, 25, 36, 0, 0, 0, 30, 20, 8]\n"
     ]
    }
   ],
   "source": [
    "# 사용예 3(충돌 해결)\n",
    "\n",
    "# 먼저 배열 2개 준비\n",
    "array_a = [12, 25, 36, 20, 30, 8, 42]\n",
    "array_b = [0 for i in range(11)]\n",
    "\n",
    "# 해시 처리를 통해 데이터(array_a)를 hash table(array_b)에 저장\n",
    "\n",
    "for i in range(len(array_a)):\n",
    "    key = array_a[i]%11\n",
    "    \n",
    "    if (array_b[key] == None):\n",
    "        array_b[key] = array_a[i]\n",
    "    else:\n",
    "        while(array_b[key]):\n",
    "            if(key < len(array_b)-1):\n",
    "                key += 1\n",
    "            else:\n",
    "                key = 0\n",
    "                \n",
    "        array_b[key] = array_a[i]\n",
    "        \n",
    "print(array_b)\n",
    "\n",
    "# 탐색 알고리즘 구현\n",
    "def findHashData(arr, target):\n",
    "    pass\n",
    "\n",
    "findHashData(array_b, 42) # 저장 위치는 1번째 위치에 있습니다."
   ]
  },
  {
   "cell_type": "code",
   "execution_count": null,
   "metadata": {},
   "outputs": [],
   "source": []
  },
  {
   "cell_type": "code",
   "execution_count": null,
   "metadata": {},
   "outputs": [],
   "source": []
  },
  {
   "cell_type": "code",
   "execution_count": null,
   "metadata": {},
   "outputs": [],
   "source": []
  },
  {
   "cell_type": "code",
   "execution_count": null,
   "metadata": {},
   "outputs": [],
   "source": []
  },
  {
   "cell_type": "code",
   "execution_count": null,
   "metadata": {},
   "outputs": [],
   "source": []
  },
  {
   "cell_type": "code",
   "execution_count": null,
   "metadata": {},
   "outputs": [],
   "source": []
  },
  {
   "cell_type": "code",
   "execution_count": null,
   "metadata": {},
   "outputs": [],
   "source": []
  },
  {
   "cell_type": "code",
   "execution_count": null,
   "metadata": {},
   "outputs": [],
   "source": []
  },
  {
   "cell_type": "code",
   "execution_count": null,
   "metadata": {},
   "outputs": [],
   "source": []
  },
  {
   "cell_type": "code",
   "execution_count": null,
   "metadata": {},
   "outputs": [],
   "source": []
  },
  {
   "cell_type": "code",
   "execution_count": null,
   "metadata": {},
   "outputs": [],
   "source": []
  },
  {
   "cell_type": "code",
   "execution_count": null,
   "metadata": {},
   "outputs": [],
   "source": []
  },
  {
   "cell_type": "code",
   "execution_count": null,
   "metadata": {},
   "outputs": [],
   "source": []
  },
  {
   "cell_type": "code",
   "execution_count": null,
   "metadata": {},
   "outputs": [],
   "source": []
  },
  {
   "cell_type": "code",
   "execution_count": null,
   "metadata": {},
   "outputs": [],
   "source": []
  },
  {
   "cell_type": "code",
   "execution_count": null,
   "metadata": {},
   "outputs": [],
   "source": []
  },
  {
   "cell_type": "code",
   "execution_count": null,
   "metadata": {},
   "outputs": [],
   "source": []
  },
  {
   "cell_type": "code",
   "execution_count": null,
   "metadata": {},
   "outputs": [],
   "source": []
  },
  {
   "cell_type": "code",
   "execution_count": null,
   "metadata": {},
   "outputs": [],
   "source": []
  },
  {
   "cell_type": "code",
   "execution_count": null,
   "metadata": {},
   "outputs": [],
   "source": []
  },
  {
   "cell_type": "code",
   "execution_count": null,
   "metadata": {},
   "outputs": [],
   "source": []
  },
  {
   "cell_type": "code",
   "execution_count": null,
   "metadata": {},
   "outputs": [],
   "source": []
  },
  {
   "cell_type": "code",
   "execution_count": null,
   "metadata": {},
   "outputs": [],
   "source": []
  },
  {
   "cell_type": "code",
   "execution_count": null,
   "metadata": {},
   "outputs": [],
   "source": []
  },
  {
   "cell_type": "code",
   "execution_count": null,
   "metadata": {},
   "outputs": [],
   "source": []
  },
  {
   "cell_type": "code",
   "execution_count": null,
   "metadata": {},
   "outputs": [],
   "source": []
  },
  {
   "cell_type": "code",
   "execution_count": null,
   "metadata": {},
   "outputs": [],
   "source": []
  },
  {
   "cell_type": "code",
   "execution_count": null,
   "metadata": {},
   "outputs": [],
   "source": []
  },
  {
   "cell_type": "code",
   "execution_count": null,
   "metadata": {},
   "outputs": [],
   "source": []
  },
  {
   "cell_type": "code",
   "execution_count": null,
   "metadata": {},
   "outputs": [],
   "source": []
  },
  {
   "cell_type": "code",
   "execution_count": null,
   "metadata": {},
   "outputs": [],
   "source": []
  }
 ],
 "metadata": {
  "kernelspec": {
   "display_name": "Python 3",
   "language": "python",
   "name": "python3"
  },
  "language_info": {
   "codemirror_mode": {
    "name": "ipython",
    "version": 3
   },
   "file_extension": ".py",
   "mimetype": "text/x-python",
   "name": "python",
   "nbconvert_exporter": "python",
   "pygments_lexer": "ipython3",
   "version": "3.8.5"
  }
 },
 "nbformat": 4,
 "nbformat_minor": 4
}
