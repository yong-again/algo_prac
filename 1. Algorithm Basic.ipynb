{
 "cells": [
  {
   "cell_type": "markdown",
   "metadata": {},
   "source": [
    "### 1 부터 n 까지의 합 구하기\n",
    "\n",
    "+ 합을 기록할 변수를 만들고 0을 저장\n",
    "+ n을 1부터 1씩 증가하면서 반복\n",
    "+ 반복문 안에서 합을 기록할 변수에 1씩 증가된 값을 더함\n",
    "+ 반복이 끝나면 합을 출력"
   ]
  },
  {
   "cell_type": "code",
   "execution_count": 15,
   "metadata": {},
   "outputs": [
    {
     "name": "stdout",
     "output_type": "stream",
     "text": [
      "5000000050000000\n",
      "time:  6.14414119720459\n"
     ]
    }
   ],
   "source": [
    "# 성능: 0(n)\n",
    "def sum_num(n): \n",
    "    s = 0 \n",
    "    for i in range(1, n + 1):\n",
    "        s = s + i\n",
    "    return s\n",
    "import time\n",
    "start_time = time.time()\n",
    "\n",
    "print(sum_num(100000000))\n",
    "\n",
    "end_time = time.time()\n",
    "\n",
    "print(\"time: \", end_time - start_time)"
   ]
  },
  {
   "cell_type": "code",
   "execution_count": 17,
   "metadata": {
    "collapsed": true
   },
   "outputs": [
    {
     "name": "stdout",
     "output_type": "stream",
     "text": [
      "5000000050000000\n",
      "time:  0.0009970664978027344\n"
     ]
    }
   ],
   "source": [
    "# n(n+1)/2\n",
    "# O(1)\n",
    "def sum_num2(n):\n",
    "    return int(n*(n+1)/2)\n",
    "\n",
    "start_time = time.time()\n",
    "\n",
    "print(sum_num2(100000000))\n",
    "\n",
    "end_time = time.time()\n",
    "\n",
    "print(\"time: \", end_time - start_time)"
   ]
  },
  {
   "cell_type": "markdown",
   "metadata": {},
   "source": [
    "### 중복 데이터 삭제\n",
    "\n",
    "names = [ \"Dave\", \"David\", \"Anthony\", \"David\", \"Dave\"]<br>\n",
    "find_same_name(name)<br>\n",
    "결과: [\"Dave\", \"David\", \"Anthony\"]\n",
    "+ set 자료형 사용X\n",
    "+ del names[인덱스]"
   ]
  },
  {
   "cell_type": "code",
   "execution_count": 48,
   "metadata": {},
   "outputs": [
    {
     "name": "stdout",
     "output_type": "stream",
     "text": [
      "['Dave', 'David', 'Anthony']\n"
     ]
    }
   ],
   "source": [
    "# O(n)\n",
    "name_list = [ \"Dave\", \"David\", \"Anthony\", \"David\", \"Dave\"]\n",
    "\n",
    "new_list = []\n",
    "def find_same_name(name_list):\n",
    "    for v in name_list:\n",
    "        if v not in new_list:\n",
    "            new_list.append(v)\n",
    "    return new_list\n",
    "\n",
    "print(find_same_name(name_list))"
   ]
  },
  {
   "cell_type": "code",
   "execution_count": 52,
   "metadata": {},
   "outputs": [],
   "source": [
    "# O(n^2)\n",
    "def same_name(name_list):\n",
    "    for idx, name in enumerate(name_list):\n",
    "        #print(idx, name)\n",
    "        for idx2 in range(idx+1, len(name_list)):\n",
    "            if (name == name_list[idx2]):\n",
    "                del names[idx2]\n",
    "                \n",
    "    return name_list"
   ]
  },
  {
   "cell_type": "code",
   "execution_count": 57,
   "metadata": {},
   "outputs": [
    {
     "name": "stdout",
     "output_type": "stream",
     "text": [
      "결과:  ['Dave', 'David', 'Anthony']\n"
     ]
    }
   ],
   "source": [
    "names = [\"Dave\", \"David\", \"Anthony\", \"David\", \"Dave\"]\n",
    "namelist= find_same_name(names)\n",
    "print(\"결과: \", namelist)"
   ]
  },
  {
   "cell_type": "markdown",
   "metadata": {},
   "source": [
    "### 최대값 구하기"
   ]
  },
  {
   "cell_type": "code",
   "execution_count": 80,
   "metadata": {},
   "outputs": [],
   "source": [
    "def find_max(n):\n",
    "    num = 0\n",
    "    for i in n:\n",
    "        if num == 0 or i > num:\n",
    "            num = i\n",
    "    print(num)"
   ]
  },
  {
   "cell_type": "code",
   "execution_count": 81,
   "metadata": {},
   "outputs": [
    {
     "name": "stdout",
     "output_type": "stream",
     "text": [
      "92\n"
     ]
    }
   ],
   "source": [
    "n = [17, 92, 18, 33, 58, 7, 33, 42]\n",
    "find_max(data)"
   ]
  },
  {
   "cell_type": "code",
   "execution_count": null,
   "metadata": {},
   "outputs": [],
   "source": []
  },
  {
   "cell_type": "code",
   "execution_count": 85,
   "metadata": {},
   "outputs": [],
   "source": [
    "def find_max_val(data):\n",
    "    max_val = n\n",
    "    length = len(n)\n",
    "    \n",
    "    for i in range(1, length):\n",
    "        if n[i] > max_val[n]:\n",
    "            max_val = n[i]\n",
    "    \n",
    "    return max_val"
   ]
  },
  {
   "cell_type": "code",
   "execution_count": 114,
   "metadata": {},
   "outputs": [
    {
     "name": "stdout",
     "output_type": "stream",
     "text": [
      "8\n"
     ]
    }
   ],
   "source": [
    "length = len(n)\n",
    "print(length)"
   ]
  },
  {
   "cell_type": "code",
   "execution_count": 86,
   "metadata": {
    "collapsed": true
   },
   "outputs": [
    {
     "ename": "TypeError",
     "evalue": "list indices must be integers or slices, not list",
     "output_type": "error",
     "traceback": [
      "\u001b[1;31m---------------------------------------------------------------------------\u001b[0m",
      "\u001b[1;31mTypeError\u001b[0m                                 Traceback (most recent call last)",
      "\u001b[1;32m<ipython-input-86-1c69945e7fcd>\u001b[0m in \u001b[0;36m<module>\u001b[1;34m\u001b[0m\n\u001b[0;32m      1\u001b[0m \u001b[0mdata\u001b[0m \u001b[1;33m=\u001b[0m \u001b[1;33m[\u001b[0m\u001b[1;36m17\u001b[0m\u001b[1;33m,\u001b[0m \u001b[1;36m92\u001b[0m\u001b[1;33m,\u001b[0m \u001b[1;36m18\u001b[0m\u001b[1;33m,\u001b[0m \u001b[1;36m33\u001b[0m\u001b[1;33m,\u001b[0m \u001b[1;36m58\u001b[0m\u001b[1;33m,\u001b[0m \u001b[1;36m7\u001b[0m\u001b[1;33m,\u001b[0m \u001b[1;36m33\u001b[0m\u001b[1;33m,\u001b[0m \u001b[1;36m42\u001b[0m\u001b[1;33m]\u001b[0m\u001b[1;33m\u001b[0m\u001b[1;33m\u001b[0m\u001b[0m\n\u001b[1;32m----> 2\u001b[1;33m \u001b[0mprint\u001b[0m\u001b[1;33m(\u001b[0m\u001b[0mfind_max_val\u001b[0m\u001b[1;33m(\u001b[0m\u001b[0mdata\u001b[0m\u001b[1;33m)\u001b[0m\u001b[1;33m)\u001b[0m\u001b[1;33m\u001b[0m\u001b[1;33m\u001b[0m\u001b[0m\n\u001b[0m",
      "\u001b[1;32m<ipython-input-85-72f17343b1aa>\u001b[0m in \u001b[0;36mfind_max_val\u001b[1;34m(data)\u001b[0m\n\u001b[0;32m      4\u001b[0m \u001b[1;33m\u001b[0m\u001b[0m\n\u001b[0;32m      5\u001b[0m     \u001b[1;32mfor\u001b[0m \u001b[0mi\u001b[0m \u001b[1;32min\u001b[0m \u001b[0mrange\u001b[0m\u001b[1;33m(\u001b[0m\u001b[1;36m1\u001b[0m\u001b[1;33m,\u001b[0m \u001b[0mlength\u001b[0m\u001b[1;33m)\u001b[0m\u001b[1;33m:\u001b[0m\u001b[1;33m\u001b[0m\u001b[1;33m\u001b[0m\u001b[0m\n\u001b[1;32m----> 6\u001b[1;33m         \u001b[1;32mif\u001b[0m \u001b[0mn\u001b[0m\u001b[1;33m[\u001b[0m\u001b[0mi\u001b[0m\u001b[1;33m]\u001b[0m \u001b[1;33m>\u001b[0m \u001b[0mmax_val\u001b[0m\u001b[1;33m[\u001b[0m\u001b[0mn\u001b[0m\u001b[1;33m]\u001b[0m\u001b[1;33m:\u001b[0m\u001b[1;33m\u001b[0m\u001b[1;33m\u001b[0m\u001b[0m\n\u001b[0m\u001b[0;32m      7\u001b[0m             \u001b[0mmax_val\u001b[0m \u001b[1;33m=\u001b[0m \u001b[0mn\u001b[0m\u001b[1;33m[\u001b[0m\u001b[0mi\u001b[0m\u001b[1;33m]\u001b[0m\u001b[1;33m\u001b[0m\u001b[1;33m\u001b[0m\u001b[0m\n\u001b[0;32m      8\u001b[0m \u001b[1;33m\u001b[0m\u001b[0m\n",
      "\u001b[1;31mTypeError\u001b[0m: list indices must be integers or slices, not list"
     ]
    }
   ],
   "source": [
    "data = [17, 92, 18, 33, 58, 7, 33, 42]\n",
    "print(find_max_val(data))"
   ]
  },
  {
   "cell_type": "code",
   "execution_count": 82,
   "metadata": {},
   "outputs": [
    {
     "name": "stdout",
     "output_type": "stream",
     "text": [
      "1\n"
     ]
    }
   ],
   "source": [
    "# 위치 구하기\n",
    "def find_max_idx(data):\n",
    "    max_idx = 0\n",
    "    length = len(n)\n",
    "    \n",
    "    for i in range(1, length):\n",
    "        if n[i] > n[max_idx]:\n",
    "            max_idx = i\n",
    "    return max_idx\n",
    "\n",
    "data = [17, 92, 18, 33, 58, 7, 33, 42]\n",
    "print(find_max_idx(data))"
   ]
  },
  {
   "cell_type": "markdown",
   "metadata": {},
   "source": [
    "### 숫자 야구 프로그램\n",
    "+ 컴퓨터는 임의의 숫자 3개를 준비\n",
    "+ 숫자는 중복X\n",
    "+ 숫자(1~9)"
   ]
  },
  {
   "cell_type": "code",
   "execution_count": null,
   "metadata": {},
   "outputs": [],
   "source": [
    "\"\"\"\n",
    "숫자야구 게임을 시작합니다\n",
    "\n",
    "정답:368\n",
    "숫자 3자리 입력: 123\n",
    "결과:[0] 스트라이트 [1] 볼: 123\n",
    "\n",
    "숫자 3자리 입력: 345\n",
    "결과: [1] 스트라이크 [0] 볼: 345\n",
    "\n",
    "숫자 3자리 입력 :127\n",
    "결과: [] 아웃: 127\n",
    "\n",
    "숫자 3자리 입력: 383\n",
    "결과: 축합니다.\n",
    "횟수: 3\n",
    "걸린시간 :10초\n",
    "\"\"\""
   ]
  },
  {
   "cell_type": "code",
   "execution_count": 151,
   "metadata": {},
   "outputs": [
    {
     "name": "stdout",
     "output_type": "stream",
     "text": [
      "['5', '2', '1']\n",
      "숫자야구게임을 시작합니다\n",
      "---------------------------\n",
      "숫자 3자리 입력 : 555\n",
      "결과: [ 1 ] Strike [ 2 ] Ball\n",
      "숫자 3자리 입력 : 478\n",
      "결과: [ 0 ] Strike [ 0 ] Ball\n",
      "숫자 3자리 입력 : 416\n",
      "결과: [ 0 ] Strike [ 1 ] Ball\n",
      "숫자 3자리 입력 : 548\n",
      "결과: [ 1 ] Strike [ 0 ] Ball\n",
      "숫자 3자리 입력 : 521\n",
      "결과: [ 3 ] Strike [ 0 ] Ball\n",
      "5 번 만에 맞추셨습니다!\n",
      "걸린 시간 14 초\n"
     ]
    }
   ],
   "source": [
    "import random\n",
    "\n",
    "# 난수 생성\n",
    "num = [1, 2, 3, 4, 5, 6 ,7, 8 ,9]\n",
    "\n",
    "ran1 = random.randint(0,8)\n",
    "num1 = str(num.pop(ran1))\n",
    "\n",
    "ran2 = random.randint(0,7)\n",
    "num2 = str(num.pop(ran2))\n",
    "\n",
    "ran3 = random.randint(0,6)\n",
    "num3 = str(num.pop(ran3))\n",
    "\n",
    "number = [num1, num2, num3]\n",
    "#print(number)\n",
    "\n",
    "# 값 초기화\n",
    "try_cnt = 0 \n",
    "strike_cnt = 0 \n",
    "ball_cnt = 0 \n",
    "\n",
    "print(\"숫자야구게임을 시작합니다\")\n",
    "print(\"---------------------------\")\n",
    "start_time = time.time()\n",
    "while(strike_cnt < 3):\n",
    "    num_input = str(input(\"숫자 3자리 입력 : \"))\n",
    "    \n",
    "    strike_cnt = 0\n",
    "    ball_cnt = 0\n",
    "    \n",
    "    for i in range(0, 3):\n",
    "        for j in range(0, 3):\n",
    "            if num_input[i] == str(number[j]) and i == j: #Strike 카운터\n",
    "                 strike_cnt += 1\n",
    "            \n",
    "            elif num_input[i] == str(number[j]) and i !=j: #Ball 카운터\n",
    "                ball_cnt += 1\n",
    "        \n",
    "    print(\"결과:\", \"[\", strike_cnt, \"]\",\"Strike\", \"[\", ball_cnt, \"]\", \"Ball\")\n",
    "    try_cnt += 1 \n",
    "\n",
    "\n",
    "print(try_cnt, \"번 만에 맞추셨습니다!\")\n",
    "end_time = time.time()\n",
    "print(\"걸린 시간\", round(end_time - start_time), \"초\")"
   ]
  },
  {
   "cell_type": "code",
   "execution_count": 142,
   "metadata": {},
   "outputs": [],
   "source": [
    "num = [1, 2, 3, 4, 5, 6 ,7, 8 ,9]\n",
    "\n",
    "ran1 = random.randint(0,8)\n",
    "num1 = str(num.pop(ran1))\n",
    "\n",
    "ran2 = random.randint(0,7)\n",
    "num2 = str(num.pop(ran2))\n",
    "\n",
    "ran3 = random.randint(0,6)\n",
    "num3 = str(num.pop(ran3))\n",
    "\n",
    "number = [num1, num2, num3]"
   ]
  },
  {
   "cell_type": "code",
   "execution_count": 143,
   "metadata": {},
   "outputs": [
    {
     "name": "stdout",
     "output_type": "stream",
     "text": [
      "['9', '7', '5']\n"
     ]
    }
   ],
   "source": [
    "print(number)"
   ]
  },
  {
   "cell_type": "code",
   "execution_count": null,
   "metadata": {},
   "outputs": [],
   "source": []
  },
  {
   "cell_type": "code",
   "execution_count": null,
   "metadata": {},
   "outputs": [],
   "source": []
  },
  {
   "cell_type": "code",
   "execution_count": null,
   "metadata": {},
   "outputs": [],
   "source": []
  },
  {
   "cell_type": "code",
   "execution_count": null,
   "metadata": {},
   "outputs": [],
   "source": []
  },
  {
   "cell_type": "code",
   "execution_count": null,
   "metadata": {},
   "outputs": [],
   "source": []
  },
  {
   "cell_type": "code",
   "execution_count": null,
   "metadata": {},
   "outputs": [],
   "source": []
  }
 ],
 "metadata": {
  "kernelspec": {
   "display_name": "Python 3",
   "language": "python",
   "name": "python3"
  },
  "language_info": {
   "codemirror_mode": {
    "name": "ipython",
    "version": 3
   },
   "file_extension": ".py",
   "mimetype": "text/x-python",
   "name": "python",
   "nbconvert_exporter": "python",
   "pygments_lexer": "ipython3",
   "version": "3.8.5"
  }
 },
 "nbformat": 4,
 "nbformat_minor": 4
}
