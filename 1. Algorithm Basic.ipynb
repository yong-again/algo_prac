{
 "cells": [
  {
   "cell_type": "markdown",
   "metadata": {},
   "source": [
    "### 1 부터 n 까지의 합 구하기\n",
    "\n",
    "+ 합을 기록할 변수를 만들고 0을 저장\n",
    "+ n을 1부터 1씩 증가하면서 반복\n",
    "+ 반복문 안에서 합을 기록할 변수에 1씩 증가된 값을 더함\n",
    "+ 반복이 끝나면 합을 출력"
   ]
  },
  {
   "cell_type": "code",
   "execution_count": 15,
   "metadata": {},
   "outputs": [
    {
     "name": "stdout",
     "output_type": "stream",
     "text": [
      "5000000050000000\n",
      "time:  6.14414119720459\n"
     ]
    }
   ],
   "source": [
    "# 성능: 0(n)\n",
    "def sum_num(n): \n",
    "    s = 0 \n",
    "    for i in range(1, n + 1):\n",
    "        s = s + i\n",
    "    return s\n",
    "import time\n",
    "start_time = time.time()\n",
    "\n",
    "print(sum_num(100000000))\n",
    "\n",
    "end_time = time.time()\n",
    "\n",
    "print(\"time: \", end_time - start_time)"
   ]
  },
  {
   "cell_type": "code",
   "execution_count": 17,
   "metadata": {
    "collapsed": true
   },
   "outputs": [
    {
     "name": "stdout",
     "output_type": "stream",
     "text": [
      "5000000050000000\n",
      "time:  0.0009970664978027344\n"
     ]
    }
   ],
   "source": [
    "# n(n+1)/2\n",
    "# O(1)\n",
    "def sum_num2(n):\n",
    "    return int(n*(n+1)/2)\n",
    "\n",
    "start_time = time.time()\n",
    "\n",
    "print(sum_num2(100000000))\n",
    "\n",
    "end_time = time.time()\n",
    "\n",
    "print(\"time: \", end_time - start_time)"
   ]
  },
  {
   "cell_type": "markdown",
   "metadata": {},
   "source": [
    "### 중복 데이터 삭제\n",
    "\n",
    "names = [ \"Dave\", \"David\", \"Anthony\", \"David\", \"Dave\"]<br>\n",
    "find_same_name(name)<br>\n",
    "결과: [\"Dave\", \"David\", \"Anthony\"]\n",
    "+ set 자료형 사용X\n",
    "+ del names[인덱스]"
   ]
  },
  {
   "cell_type": "code",
   "execution_count": 48,
   "metadata": {},
   "outputs": [
    {
     "name": "stdout",
     "output_type": "stream",
     "text": [
      "['Dave', 'David', 'Anthony']\n"
     ]
    }
   ],
   "source": [
    "# O(n)\n",
    "name_list = [ \"Dave\", \"David\", \"Anthony\", \"David\", \"Dave\"]\n",
    "\n",
    "new_list = []\n",
    "def find_same_name(name_list):\n",
    "    for v in name_list:\n",
    "        if v not in new_list:\n",
    "            new_list.append(v)\n",
    "    return new_list\n",
    "\n",
    "print(find_same_name(name_list))"
   ]
  },
  {
   "cell_type": "code",
   "execution_count": 52,
   "metadata": {},
   "outputs": [],
   "source": [
    "# O(n^2)\n",
    "def same_name(name_list):\n",
    "    for idx, name in enumerate(name_list):\n",
    "        #print(idx, name)\n",
    "        for idx2 in range(idx+1, len(name_list)):\n",
    "            if (name == name_list[idx2]):\n",
    "                del names[idx2]\n",
    "                \n",
    "    return name_list"
   ]
  },
  {
   "cell_type": "code",
   "execution_count": 57,
   "metadata": {},
   "outputs": [
    {
     "name": "stdout",
     "output_type": "stream",
     "text": [
      "결과:  ['Dave', 'David', 'Anthony']\n"
     ]
    }
   ],
   "source": [
    "names = [\"Dave\", \"David\", \"Anthony\", \"David\", \"Dave\"]\n",
    "namelist= find_same_name(names)\n",
    "print(\"결과: \", namelist)"
   ]
  },
  {
   "cell_type": "markdown",
   "metadata": {},
   "source": [
    "### 최대값 구하기"
   ]
  },
  {
   "cell_type": "code",
   "execution_count": 80,
   "metadata": {},
   "outputs": [],
   "source": [
    "def find_max(n):\n",
    "    num = 0\n",
    "    for i in n:\n",
    "        if num == 0 or i > num:\n",
    "            num = i\n",
    "    print(num)"
   ]
  },
  {
   "cell_type": "code",
   "execution_count": 81,
   "metadata": {},
   "outputs": [
    {
     "name": "stdout",
     "output_type": "stream",
     "text": [
      "92\n"
     ]
    }
   ],
   "source": [
    "n = [17, 92, 18, 33, 58, 7, 33, 42]\n",
    "find_max(data)"
   ]
  },
  {
   "cell_type": "code",
   "execution_count": null,
   "metadata": {},
   "outputs": [],
   "source": []
  },
  {
   "cell_type": "code",
   "execution_count": 85,
   "metadata": {},
   "outputs": [],
   "source": [
    "def find_max_val(data):\n",
    "    max_val = n\n",
    "    length = len(n)\n",
    "    \n",
    "    for i in range(1, length):\n",
    "        if n[i] > max_val[n]:\n",
    "            max_val = n[i]\n",
    "    \n",
    "    return max_val"
   ]
  },
  {
   "cell_type": "code",
   "execution_count": 114,
   "metadata": {},
   "outputs": [
    {
     "name": "stdout",
     "output_type": "stream",
     "text": [
      "8\n"
     ]
    }
   ],
   "source": [
    "length = len(n)\n",
    "print(length)"
   ]
  },
  {
   "cell_type": "code",
   "execution_count": 86,
   "metadata": {
    "collapsed": true
   },
   "outputs": [
    {
     "ename": "TypeError",
     "evalue": "list indices must be integers or slices, not list",
     "output_type": "error",
     "traceback": [
      "\u001b[1;31m---------------------------------------------------------------------------\u001b[0m",
      "\u001b[1;31mTypeError\u001b[0m                                 Traceback (most recent call last)",
      "\u001b[1;32m<ipython-input-86-1c69945e7fcd>\u001b[0m in \u001b[0;36m<module>\u001b[1;34m\u001b[0m\n\u001b[0;32m      1\u001b[0m \u001b[0mdata\u001b[0m \u001b[1;33m=\u001b[0m \u001b[1;33m[\u001b[0m\u001b[1;36m17\u001b[0m\u001b[1;33m,\u001b[0m \u001b[1;36m92\u001b[0m\u001b[1;33m,\u001b[0m \u001b[1;36m18\u001b[0m\u001b[1;33m,\u001b[0m \u001b[1;36m33\u001b[0m\u001b[1;33m,\u001b[0m \u001b[1;36m58\u001b[0m\u001b[1;33m,\u001b[0m \u001b[1;36m7\u001b[0m\u001b[1;33m,\u001b[0m \u001b[1;36m33\u001b[0m\u001b[1;33m,\u001b[0m \u001b[1;36m42\u001b[0m\u001b[1;33m]\u001b[0m\u001b[1;33m\u001b[0m\u001b[1;33m\u001b[0m\u001b[0m\n\u001b[1;32m----> 2\u001b[1;33m \u001b[0mprint\u001b[0m\u001b[1;33m(\u001b[0m\u001b[0mfind_max_val\u001b[0m\u001b[1;33m(\u001b[0m\u001b[0mdata\u001b[0m\u001b[1;33m)\u001b[0m\u001b[1;33m)\u001b[0m\u001b[1;33m\u001b[0m\u001b[1;33m\u001b[0m\u001b[0m\n\u001b[0m",
      "\u001b[1;32m<ipython-input-85-72f17343b1aa>\u001b[0m in \u001b[0;36mfind_max_val\u001b[1;34m(data)\u001b[0m\n\u001b[0;32m      4\u001b[0m \u001b[1;33m\u001b[0m\u001b[0m\n\u001b[0;32m      5\u001b[0m     \u001b[1;32mfor\u001b[0m \u001b[0mi\u001b[0m \u001b[1;32min\u001b[0m \u001b[0mrange\u001b[0m\u001b[1;33m(\u001b[0m\u001b[1;36m1\u001b[0m\u001b[1;33m,\u001b[0m \u001b[0mlength\u001b[0m\u001b[1;33m)\u001b[0m\u001b[1;33m:\u001b[0m\u001b[1;33m\u001b[0m\u001b[1;33m\u001b[0m\u001b[0m\n\u001b[1;32m----> 6\u001b[1;33m         \u001b[1;32mif\u001b[0m \u001b[0mn\u001b[0m\u001b[1;33m[\u001b[0m\u001b[0mi\u001b[0m\u001b[1;33m]\u001b[0m \u001b[1;33m>\u001b[0m \u001b[0mmax_val\u001b[0m\u001b[1;33m[\u001b[0m\u001b[0mn\u001b[0m\u001b[1;33m]\u001b[0m\u001b[1;33m:\u001b[0m\u001b[1;33m\u001b[0m\u001b[1;33m\u001b[0m\u001b[0m\n\u001b[0m\u001b[0;32m      7\u001b[0m             \u001b[0mmax_val\u001b[0m \u001b[1;33m=\u001b[0m \u001b[0mn\u001b[0m\u001b[1;33m[\u001b[0m\u001b[0mi\u001b[0m\u001b[1;33m]\u001b[0m\u001b[1;33m\u001b[0m\u001b[1;33m\u001b[0m\u001b[0m\n\u001b[0;32m      8\u001b[0m \u001b[1;33m\u001b[0m\u001b[0m\n",
      "\u001b[1;31mTypeError\u001b[0m: list indices must be integers or slices, not list"
     ]
    }
   ],
   "source": [
    "data = [17, 92, 18, 33, 58, 7, 33, 42]\n",
    "print(find_max_val(data))"
   ]
  },
  {
   "cell_type": "code",
   "execution_count": 82,
   "metadata": {},
   "outputs": [
    {
     "name": "stdout",
     "output_type": "stream",
     "text": [
      "1\n"
     ]
    }
   ],
   "source": [
    "# 위치 구하기\n",
    "def find_max_idx(data):\n",
    "    max_idx = 0\n",
    "    length = len(n)\n",
    "    \n",
    "    for i in range(1, length):\n",
    "        if n[i] > n[max_idx]:\n",
    "            max_idx = i\n",
    "    return max_idx\n",
    "\n",
    "data = [17, 92, 18, 33, 58, 7, 33, 42]\n",
    "print(find_max_idx(data))"
   ]
  },
  {
   "cell_type": "markdown",
   "metadata": {},
   "source": [
    "### 숫자 야구 프로그램\n",
    "+ 컴퓨터는 임의의 숫자 3개를 준비\n",
    "+ 숫자는 중복X\n",
    "+ 숫자(1~9)"
   ]
  },
  {
   "cell_type": "code",
   "execution_count": null,
   "metadata": {},
   "outputs": [],
   "source": [
    "\"\"\"\n",
    "숫자야구 게임을 시작합니다\n",
    "\n",
    "정답:368\n",
    "숫자 3자리 입력: 123\n",
    "결과:[0] 스트라이트 [1] 볼: 123\n",
    "\n",
    "숫자 3자리 입력: 345\n",
    "결과: [1] 스트라이크 [0] 볼: 345\n",
    "\n",
    "숫자 3자리 입력 :127\n",
    "결과: [] 아웃: 127\n",
    "\n",
    "숫자 3자리 입력: 383\n",
    "결과: 축합니다.\n",
    "횟수: 3\n",
    "걸린시간 :10초\n",
    "\"\"\""
   ]
  },
  {
   "cell_type": "code",
   "execution_count": 151,
   "metadata": {
    "scrolled": true
   },
   "outputs": [
    {
     "name": "stdout",
     "output_type": "stream",
     "text": [
      "['5', '2', '1']\n",
      "숫자야구게임을 시작합니다\n",
      "---------------------------\n",
      "숫자 3자리 입력 : 555\n",
      "결과: [ 1 ] Strike [ 2 ] Ball\n",
      "숫자 3자리 입력 : 478\n",
      "결과: [ 0 ] Strike [ 0 ] Ball\n",
      "숫자 3자리 입력 : 416\n",
      "결과: [ 0 ] Strike [ 1 ] Ball\n",
      "숫자 3자리 입력 : 548\n",
      "결과: [ 1 ] Strike [ 0 ] Ball\n",
      "숫자 3자리 입력 : 521\n",
      "결과: [ 3 ] Strike [ 0 ] Ball\n",
      "5 번 만에 맞추셨습니다!\n",
      "걸린 시간 14 초\n"
     ]
    }
   ],
   "source": [
    "import random\n",
    "\n",
    "# 난수 생성\n",
    "num = [1, 2, 3, 4, 5, 6 ,7, 8 ,9]\n",
    "\n",
    "ran1 = random.randint(0,8)\n",
    "num1 = str(num.pop(ran1))\n",
    "\n",
    "ran2 = random.randint(0,7)\n",
    "num2 = str(num.pop(ran2))\n",
    "\n",
    "ran3 = random.randint(0,6)\n",
    "num3 = str(num.pop(ran3))\n",
    "\n",
    "number = [num1, num2, num3]\n",
    "#print(number)\n",
    "\n",
    "# 값 초기화\n",
    "try_cnt = 0 \n",
    "strike_cnt = 0 \n",
    "ball_cnt = 0 \n",
    "\n",
    "print(\"숫자야구게임을 시작합니다\")\n",
    "print(\"---------------------------\")\n",
    "start_time = time.time()\n",
    "while(strike_cnt < 3):\n",
    "    num_input = str(input(\"숫자 3자리 입력 : \"))\n",
    "    \n",
    "    strike_cnt = 0\n",
    "    ball_cnt = 0\n",
    "    \n",
    "    for i in range(0, 3):\n",
    "        for j in range(0, 3):\n",
    "            if num_input[i] == str(number[j]) and i == j: #Strike 카운터\n",
    "                 strike_cnt += 1\n",
    "            \n",
    "            elif num_input[i] == str(number[j]) and i !=j: #Ball 카운터\n",
    "                ball_cnt += 1\n",
    "        \n",
    "    print(\"결과:\", \"[\", strike_cnt, \"]\",\"Strike\", \"[\", ball_cnt, \"]\", \"Ball\")\n",
    "    try_cnt += 1 \n",
    "\n",
    "\n",
    "print(try_cnt, \"번 만에 맞추셨습니다!\")\n",
    "end_time = time.time()\n",
    "print(\"걸린 시간\", round(end_time - start_time), \"초\")"
   ]
  },
  {
   "cell_type": "code",
   "execution_count": 156,
   "metadata": {},
   "outputs": [],
   "source": [
    "num = [1, 2, 3, 4, 5, 6 ,7, 8 ,9]\n",
    "\n",
    "ran1 = random.randint(0,8)\n",
    "num1 = str(num.pop(ran1))\n",
    "\n",
    "ran2 = random.randint(0,7)\n",
    "num2 = str(num.pop(ran2))\n",
    "\n",
    "ran3 = random.randint(0,6)\n",
    "num3 = str(num.pop(ran3))\n",
    "\n",
    "number = [num1, num2, num3]"
   ]
  },
  {
   "cell_type": "code",
   "execution_count": 157,
   "metadata": {},
   "outputs": [
    {
     "name": "stdout",
     "output_type": "stream",
     "text": [
      "['8', '4', '6']\n"
     ]
    }
   ],
   "source": [
    "print(number)"
   ]
  },
  {
   "cell_type": "code",
   "execution_count": 17,
   "metadata": {
    "collapsed": true
   },
   "outputs": [
    {
     "name": "stdout",
     "output_type": "stream",
     "text": [
      "[6, 1, 5]\n",
      "숫자 야구를 시작합니다.\n",
      "==============================\n",
      "숫자 3자리 입력: 544\n",
      "숫자 3자리 입력: 451\n"
     ]
    },
    {
     "ename": "KeyboardInterrupt",
     "evalue": "Interrupted by user",
     "output_type": "error",
     "traceback": [
      "\u001b[1;31m---------------------------------------------------------------------------\u001b[0m",
      "\u001b[1;31mKeyboardInterrupt\u001b[0m                         Traceback (most recent call last)",
      "\u001b[1;32m<ipython-input-17-04098b9c3091>\u001b[0m in \u001b[0;36m<module>\u001b[1;34m\u001b[0m\n\u001b[0;32m     26\u001b[0m \u001b[0mball\u001b[0m \u001b[1;33m=\u001b[0m \u001b[1;36m0\u001b[0m\u001b[1;33m\u001b[0m\u001b[1;33m\u001b[0m\u001b[0m\n\u001b[0;32m     27\u001b[0m \u001b[1;32mwhile\u001b[0m\u001b[1;33m(\u001b[0m\u001b[1;32mTrue\u001b[0m\u001b[1;33m)\u001b[0m\u001b[1;33m:\u001b[0m\u001b[1;33m\u001b[0m\u001b[1;33m\u001b[0m\u001b[0m\n\u001b[1;32m---> 28\u001b[1;33m     \u001b[0muser\u001b[0m \u001b[1;33m=\u001b[0m \u001b[0mstr\u001b[0m\u001b[1;33m(\u001b[0m\u001b[0minput\u001b[0m\u001b[1;33m(\u001b[0m\u001b[1;34m'숫자 3자리 입력: '\u001b[0m\u001b[1;33m)\u001b[0m\u001b[1;33m)\u001b[0m\u001b[1;33m\u001b[0m\u001b[1;33m\u001b[0m\u001b[0m\n\u001b[0m\u001b[0;32m     29\u001b[0m     \u001b[0mstrike\u001b[0m\u001b[1;33m,\u001b[0m \u001b[0mball\u001b[0m \u001b[1;33m=\u001b[0m \u001b[1;36m0\u001b[0m\u001b[1;33m,\u001b[0m \u001b[1;36m0\u001b[0m\u001b[1;33m\u001b[0m\u001b[1;33m\u001b[0m\u001b[0m\n\u001b[0;32m     30\u001b[0m     \u001b[1;32mif\u001b[0m \u001b[1;33m(\u001b[0m\u001b[0muser\u001b[0m \u001b[1;33m==\u001b[0m \u001b[1;34m\"\"\u001b[0m\u001b[1;33m)\u001b[0m\u001b[1;33m:\u001b[0m\u001b[1;33m\u001b[0m\u001b[1;33m\u001b[0m\u001b[0m\n",
      "\u001b[1;32m~\\anaconda3\\lib\\site-packages\\ipykernel\\kernelbase.py\u001b[0m in \u001b[0;36mraw_input\u001b[1;34m(self, prompt)\u001b[0m\n\u001b[0;32m    858\u001b[0m                 \u001b[1;34m\"raw_input was called, but this frontend does not support input requests.\"\u001b[0m\u001b[1;33m\u001b[0m\u001b[1;33m\u001b[0m\u001b[0m\n\u001b[0;32m    859\u001b[0m             )\n\u001b[1;32m--> 860\u001b[1;33m         return self._input_request(str(prompt),\n\u001b[0m\u001b[0;32m    861\u001b[0m             \u001b[0mself\u001b[0m\u001b[1;33m.\u001b[0m\u001b[0m_parent_ident\u001b[0m\u001b[1;33m,\u001b[0m\u001b[1;33m\u001b[0m\u001b[1;33m\u001b[0m\u001b[0m\n\u001b[0;32m    862\u001b[0m             \u001b[0mself\u001b[0m\u001b[1;33m.\u001b[0m\u001b[0m_parent_header\u001b[0m\u001b[1;33m,\u001b[0m\u001b[1;33m\u001b[0m\u001b[1;33m\u001b[0m\u001b[0m\n",
      "\u001b[1;32m~\\anaconda3\\lib\\site-packages\\ipykernel\\kernelbase.py\u001b[0m in \u001b[0;36m_input_request\u001b[1;34m(self, prompt, ident, parent, password)\u001b[0m\n\u001b[0;32m    902\u001b[0m             \u001b[1;32mexcept\u001b[0m \u001b[0mKeyboardInterrupt\u001b[0m\u001b[1;33m:\u001b[0m\u001b[1;33m\u001b[0m\u001b[1;33m\u001b[0m\u001b[0m\n\u001b[0;32m    903\u001b[0m                 \u001b[1;31m# re-raise KeyboardInterrupt, to truncate traceback\u001b[0m\u001b[1;33m\u001b[0m\u001b[1;33m\u001b[0m\u001b[1;33m\u001b[0m\u001b[0m\n\u001b[1;32m--> 904\u001b[1;33m                 \u001b[1;32mraise\u001b[0m \u001b[0mKeyboardInterrupt\u001b[0m\u001b[1;33m(\u001b[0m\u001b[1;34m\"Interrupted by user\"\u001b[0m\u001b[1;33m)\u001b[0m \u001b[1;32mfrom\u001b[0m \u001b[1;32mNone\u001b[0m\u001b[1;33m\u001b[0m\u001b[1;33m\u001b[0m\u001b[0m\n\u001b[0m\u001b[0;32m    905\u001b[0m             \u001b[1;32mexcept\u001b[0m \u001b[0mException\u001b[0m \u001b[1;32mas\u001b[0m \u001b[0me\u001b[0m\u001b[1;33m:\u001b[0m\u001b[1;33m\u001b[0m\u001b[1;33m\u001b[0m\u001b[0m\n\u001b[0;32m    906\u001b[0m                 \u001b[0mself\u001b[0m\u001b[1;33m.\u001b[0m\u001b[0mlog\u001b[0m\u001b[1;33m.\u001b[0m\u001b[0mwarning\u001b[0m\u001b[1;33m(\u001b[0m\u001b[1;34m\"Invalid Message:\"\u001b[0m\u001b[1;33m,\u001b[0m \u001b[0mexc_info\u001b[0m\u001b[1;33m=\u001b[0m\u001b[1;32mTrue\u001b[0m\u001b[1;33m)\u001b[0m\u001b[1;33m\u001b[0m\u001b[1;33m\u001b[0m\u001b[0m\n",
      "\u001b[1;31mKeyboardInterrupt\u001b[0m: Interrupted by user"
     ]
    }
   ],
   "source": [
    "import random\n",
    "\n",
    "com = [i for i in range(3)] # 3자리수 준비\n",
    "com\n",
    "\n",
    "# 중복처리, 임의의 숫자, 1~9\n",
    "i = 0 \n",
    "while(i < 3):\n",
    "    com[i] = random.randrange(1, 9, 1)\n",
    "    \n",
    "    if(i==1):\n",
    "        if(com[i] == com[i-1]):\n",
    "            i -= 1\n",
    "    \n",
    "    if(i==2):\n",
    "        if(com[i] == com[i-1] or com[i] == com[i-2]):\n",
    "            i -= 1\n",
    "        \n",
    "    i += 1\n",
    "print(com)\n",
    "\n",
    "print('숫자 야구를 시작합니다.')\n",
    "print('==============================')\n",
    "\n",
    "strike = 0\n",
    "ball = 0\n",
    "while(True):\n",
    "    user = str(input('숫자 3자리 입력: '))\n",
    "    strike, ball = 0, 0\n",
    "    if (user == \"\"):\n",
    "        print(\"\\n다시 입력해 주세요\\n\")\n",
    "        continue\n",
    "        \n",
    "    if (len(user) != 3):\n",
    "        print(\"\\n3자리만 입력하세요\\n\")\n",
    "    \n",
    "    if(user.isalpha()):\n",
    "        print(\"\\n숫자만 입력하세요\\n\")\n",
    "    \n",
    "    for i in range(3):\n",
    "        if (com[i] == user[i]):\n",
    "            strike += 1\n",
    "            \n",
    "    if(com[0] == user[1] or com[0] == user[2]):\n",
    "        ball += 1\n",
    "            \n",
    "    if(com[1] == user[1] or com[1] == user[2]):\n",
    "        ball += 1\n",
    "            \n",
    "    if(com[2] == user[1] or com[2] == user[0]):\n",
    "        ball += 1\n",
    "        \n",
    "    if strike == 3:\n",
    "        print(\"축하 합니다\")\n",
    "        break\n",
    "    elif strike == 0 and ball == 0:\n",
    "        print(\"아웃: \", user)\n",
    "    else:\n",
    "        print(\"{}Strike {}Ball\",format(strike, ball))"
   ]
  },
  {
   "cell_type": "markdown",
   "metadata": {},
   "source": [
    "### 피보나치 수열\n",
    "0 과 1로 시작되며, 다음 피보나치 수는 바로 앞의 피보나치 수의 합이 된다."
   ]
  },
  {
   "cell_type": "code",
   "execution_count": null,
   "metadata": {},
   "outputs": [],
   "source": [
    "0 1 1 2 3 5 8 0"
   ]
  },
  {
   "cell_type": "code",
   "execution_count": null,
   "metadata": {},
   "outputs": [],
   "source": [
    "+ 처음 값을 0, 1 시작하고 \n",
    "K[i] = K[i-1] + K[i-2]"
   ]
  },
  {
   "cell_type": "code",
   "execution_count": 36,
   "metadata": {},
   "outputs": [
    {
     "name": "stdout",
     "output_type": "stream",
     "text": [
      "[0, 1, 1, 2, 3, 5, 8, 13, 21, 34, 55]\n"
     ]
    }
   ],
   "source": [
    "fivo = [0, 1]\n",
    "\n",
    "for i in range(2, 11):\n",
    "    p = fivo[i-1] + fivo[i-2]\n",
    "    fivo.append(p)\n",
    "    \n",
    "print(fivo)"
   ]
  },
  {
   "cell_type": "code",
   "execution_count": 41,
   "metadata": {},
   "outputs": [
    {
     "name": "stdout",
     "output_type": "stream",
     "text": [
      "0\n",
      "1\n",
      "1\n",
      "2\n",
      "3\n",
      "5\n",
      "8\n",
      "13\n",
      "21\n",
      "34\n",
      "55\n"
     ]
    }
   ],
   "source": [
    "a = 0\n",
    "b = 1\n",
    "\n",
    "for _ in range(0, 11):\n",
    "    print(a)\n",
    "    temp = a\n",
    "    a = b\n",
    "    b = temp + b"
   ]
  },
  {
   "cell_type": "code",
   "execution_count": null,
   "metadata": {},
   "outputs": [],
   "source": []
  }
 ],
 "metadata": {
  "kernelspec": {
   "display_name": "Python 3",
   "language": "python",
   "name": "python3"
  },
  "language_info": {
   "codemirror_mode": {
    "name": "ipython",
    "version": 3
   },
   "file_extension": ".py",
   "mimetype": "text/x-python",
   "name": "python",
   "nbconvert_exporter": "python",
   "pygments_lexer": "ipython3",
   "version": "3.8.5"
  }
 },
 "nbformat": 4,
 "nbformat_minor": 4
}
